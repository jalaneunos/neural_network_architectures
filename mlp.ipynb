{
  "nbformat": 4,
  "nbformat_minor": 0,
  "metadata": {
    "colab": {
      "provenance": [],
      "authorship_tag": "ABX9TyMlummiqDzO8PZgfp2MPMnx",
      "include_colab_link": true
    },
    "kernelspec": {
      "name": "python3",
      "display_name": "Python 3"
    },
    "language_info": {
      "name": "python"
    }
  },
  "cells": [
    {
      "cell_type": "markdown",
      "metadata": {
        "id": "view-in-github",
        "colab_type": "text"
      },
      "source": [
        "<a href=\"https://colab.research.google.com/github/jalaneunos/neural_network_architectures/blob/main/mlp.ipynb\" target=\"_parent\"><img src=\"https://colab.research.google.com/assets/colab-badge.svg\" alt=\"Open In Colab\"/></a>"
      ]
    },
    {
      "cell_type": "code",
      "execution_count": null,
      "metadata": {
        "id": "q1gqaBGblrll"
      },
      "outputs": [],
      "source": [
        "import torch\n",
        "import torch.nn as nn\n",
        "import numpy as np"
      ]
    },
    {
      "cell_type": "markdown",
      "source": [
        "# 2 layer ANN without PyTorch nn modules"
      ],
      "metadata": {
        "id": "SGPKECZlmACc"
      }
    },
    {
      "cell_type": "markdown",
      "source": [
        "## Activation functions"
      ],
      "metadata": {
        "id": "I_NImSBYswC7"
      }
    },
    {
      "cell_type": "code",
      "source": [
        "def relu(x):\n",
        "    return torch.maximum(torch.tensor(0.0), x)\n",
        "\n",
        "def sigmoid(x):\n",
        "    return 1 / (1 + torch.exp(-x))"
      ],
      "metadata": {
        "id": "54psrLjtrLjY"
      },
      "execution_count": null,
      "outputs": []
    },
    {
      "cell_type": "code",
      "source": [
        "class Layer:\n",
        "  def __init__(self, num_neurons, input_dimensions, activation= lambda x: x):\n",
        "    self.weights = torch.rand((input_dimensions, num_neurons), dtype=torch.float64)\n",
        "    self.bias = torch.zeros(num_neurons)\n",
        "    self.activation = activation # default is linear neuron\n",
        "\n",
        "  def forward(self, x):\n",
        "    u = torch.transpose(self.weights, 0, 1) @ x + self.bias\n",
        "    y = self.activation(u)\n",
        "    return y\n",
        "\n",
        "  def __repr__(self):\n",
        "    return f\"Layer with {len(self.bias)} neurons\"\n",
        "\n",
        "\n",
        "class ANN:\n",
        "  def __init__(self, num_of_layers, input_dimensions, output_dimensions, layer_width):\n",
        "    self.layers = []\n",
        "    for i in range(num_of_layers):\n",
        "      if i == 0:\n",
        "        layer = Layer(layer_width, input_dimensions, relu)\n",
        "      elif i == num_of_layers - 1: # output layer\n",
        "        layer = Layer(output_dimensions, layer_width)\n",
        "      else:\n",
        "        layer = Layer(layer_width, layer_width, relu)\n",
        "      self.layers.append(layer)\n",
        "\n",
        "  def forward(self, x):\n",
        "    for layer in self.layers:\n",
        "      x = layer.forward(x)\n",
        "    return x\n",
        "\n"
      ],
      "metadata": {
        "id": "HHuSZsgLl32m"
      },
      "execution_count": null,
      "outputs": []
    },
    {
      "cell_type": "code",
      "source": [
        "def mse(d, y):\n",
        "  return 0.5 * (d - y) ** 2"
      ],
      "metadata": {
        "id": "D_qD1hi-9WcR"
      },
      "execution_count": null,
      "outputs": []
    },
    {
      "cell_type": "code",
      "source": [
        "ann = ANN(3, 3, 1, 4)"
      ],
      "metadata": {
        "id": "13tpVuGFl6-c"
      },
      "execution_count": null,
      "outputs": []
    },
    {
      "cell_type": "code",
      "source": [
        "x = torch.tensor([1, 2, 3], dtype=torch.float64)"
      ],
      "metadata": {
        "id": "1xsTOO-go6TB"
      },
      "execution_count": null,
      "outputs": []
    },
    {
      "cell_type": "code",
      "source": [
        "out = ann.forward(x)"
      ],
      "metadata": {
        "id": "BDXqsDoRpA1Q"
      },
      "execution_count": null,
      "outputs": []
    },
    {
      "cell_type": "code",
      "source": [
        "ann.layers"
      ],
      "metadata": {
        "colab": {
          "base_uri": "https://localhost:8080/"
        },
        "id": "Hde86ARBpUzs",
        "outputId": "61c23ec2-483f-4d69-f9b3-12e0092ddb4e"
      },
      "execution_count": null,
      "outputs": [
        {
          "output_type": "execute_result",
          "data": {
            "text/plain": [
              "[Layer with 4 neurons, Layer with 4 neurons, Layer with 1 neurons]"
            ]
          },
          "metadata": {},
          "execution_count": 101
        }
      ]
    },
    {
      "cell_type": "code",
      "source": [],
      "metadata": {
        "id": "Bo4I9VyrtYEH"
      },
      "execution_count": null,
      "outputs": []
    }
  ]
}