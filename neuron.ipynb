{
  "nbformat": 4,
  "nbformat_minor": 0,
  "metadata": {
    "colab": {
      "provenance": [],
      "authorship_tag": "ABX9TyPcTZ8UIXL9yIRE3a4hfTDV",
      "include_colab_link": true
    },
    "kernelspec": {
      "name": "python3",
      "display_name": "Python 3"
    },
    "language_info": {
      "name": "python"
    }
  },
  "cells": [
    {
      "cell_type": "markdown",
      "metadata": {
        "id": "view-in-github",
        "colab_type": "text"
      },
      "source": [
        "<a href=\"https://colab.research.google.com/github/jalaneunos/neural_network_architectures/blob/main/neuron.ipynb\" target=\"_parent\"><img src=\"https://colab.research.google.com/assets/colab-badge.svg\" alt=\"Open In Colab\"/></a>"
      ]
    },
    {
      "cell_type": "code",
      "execution_count": 78,
      "metadata": {
        "id": "DNPqfmyNzd1v"
      },
      "outputs": [],
      "source": [
        "import torch\n",
        "import torch.nn as nn\n",
        "import torch.optim as optim\n",
        "import numpy as np\n",
        "import math\n",
        "import os"
      ]
    },
    {
      "cell_type": "markdown",
      "source": [
        "# Training patterns and labels"
      ],
      "metadata": {
        "id": "AwMpDpOmycBa"
      }
    },
    {
      "cell_type": "code",
      "source": [
        "X = np.array([[0.09, -0.44, -0.15],\n",
        "              [0.69, -0.99, -0.76],\n",
        "              [0.34, 0.65, -0.73],\n",
        "              [0.15, 0.78, -0.58],\n",
        "              [-0.63, -0.78, -0.56],\n",
        "              [0.96, 0.62, -0.66],\n",
        "              [0.63, -0.45, -0.14],\n",
        "              [0.88, 0.64, -0.33]])\n",
        "Y = np.array([-2.57, -2.97, 0.96, 1.04, -3.21, 1.05, -2.39, 0.66])"
      ],
      "metadata": {
        "id": "RQ1_0IQjyZuH"
      },
      "execution_count": 67,
      "outputs": []
    },
    {
      "cell_type": "markdown",
      "source": [
        "# Neuron without using PyTorch"
      ],
      "metadata": {
        "id": "WsrBF5108y2n"
      }
    },
    {
      "cell_type": "code",
      "source": [
        "class NeuronNP:\n",
        "  def __init__(self, size, lr=0.01):\n",
        "    self.w = np.random.rand(size)\n",
        "    self.b = 0.0\n",
        "    self.lr = lr\n",
        "\n",
        "  def relu(self, u):\n",
        "    return max(0, u)\n",
        "\n",
        "  def forward(self, x):\n",
        "    u = np.dot(self.w, x) + self.b\n",
        "    y = self.relu(u)\n",
        "    return u, y\n",
        "\n",
        "  def backpropagation(self, d, y, x):\n",
        "    derivative_of_sigmoid = 1 if y > 0 else 0\n",
        "    grad_wrt_w = -(d - y) * derivative_of_sigmoid * x\n",
        "    grad_wrt_b = -(d - y) * derivative_of_sigmoid\n",
        "\n",
        "    self.w = self.w - self.lr * grad_wrt_w\n",
        "    self.b = self.b - self.lr * grad_wrt_b\n",
        "\n",
        "  def loss(self, d, y):\n",
        "    return 0.5 * (d - y) ** 2\n"
      ],
      "metadata": {
        "id": "8SkU9Cl-8xrd"
      },
      "execution_count": 74,
      "outputs": []
    },
    {
      "cell_type": "markdown",
      "source": [
        "# Training the handmade perceptron using SGD"
      ],
      "metadata": {
        "id": "1_5QfJ4T0b8x"
      }
    },
    {
      "cell_type": "code",
      "source": [
        "neuron_np = NeuronNP(3)"
      ],
      "metadata": {
        "id": "3TYjswVJ-PsU"
      },
      "execution_count": 75,
      "outputs": []
    },
    {
      "cell_type": "code",
      "source": [
        "neuron_np.w"
      ],
      "metadata": {
        "colab": {
          "base_uri": "https://localhost:8080/"
        },
        "id": "JpJp1ngR1dCN",
        "outputId": "d351d935-aac5-41ab-9218-082bdd9e5095"
      },
      "execution_count": 76,
      "outputs": [
        {
          "output_type": "execute_result",
          "data": {
            "text/plain": [
              "array([0.0694203 , 0.44263379, 0.21639073])"
            ]
          },
          "metadata": {},
          "execution_count": 76
        }
      ]
    },
    {
      "cell_type": "code",
      "source": [
        "NUM_OF_EPOCHS = 200\n",
        "idx = np.arange(len(X))\n",
        "for epoch in range(NUM_OF_EPOCHS):\n",
        "  np.random.shuffle(idx)\n",
        "  X, Y = X[idx], Y[idx]\n",
        "  errors = []\n",
        "  for i in range(len(X)):\n",
        "    x = X[i]\n",
        "    d = Y[i]\n",
        "\n",
        "    u, y = neuron_np.forward(x)\n",
        "    errors.append(neuron_np.loss(d, y))\n",
        "    neuron_np.backpropagation(d, y, x)\n",
        "\n",
        "  if epoch % 10 == 0:\n",
        "    print(f\"Epoch: {epoch}, mean error: {sum(errors) / len(errors)}\")\n",
        "    errors.clear()\n"
      ],
      "metadata": {
        "colab": {
          "base_uri": "https://localhost:8080/"
        },
        "id": "K03FY5ZY0am0",
        "outputId": "908eef8b-0b7d-4b32-9282-9f3c72906c05"
      },
      "execution_count": 77,
      "outputs": [
        {
          "output_type": "stream",
          "name": "stdout",
          "text": [
            "Epoch: 0, mean error: 2.0940681238689107\n",
            "Epoch: 10, mean error: 2.0006753954879692\n",
            "Epoch: 20, mean error: 1.981413879576471\n",
            "Epoch: 30, mean error: 1.975565492108188\n",
            "Epoch: 40, mean error: 1.9730999780436431\n",
            "Epoch: 50, mean error: 1.9717676497062133\n",
            "Epoch: 60, mean error: 1.9713489439077851\n",
            "Epoch: 70, mean error: 1.9710986403016109\n",
            "Epoch: 80, mean error: 1.970899878770807\n",
            "Epoch: 90, mean error: 1.9707186571570734\n",
            "Epoch: 100, mean error: 1.9705511495581352\n",
            "Epoch: 110, mean error: 1.9703948237360582\n",
            "Epoch: 120, mean error: 1.970250186339846\n",
            "Epoch: 130, mean error: 1.9701142955266193\n",
            "Epoch: 140, mean error: 1.969990353786153\n",
            "Epoch: 150, mean error: 1.9698724040602973\n",
            "Epoch: 160, mean error: 1.969762777820144\n",
            "Epoch: 170, mean error: 1.9696592367182855\n",
            "Epoch: 180, mean error: 1.9695627243067366\n",
            "Epoch: 190, mean error: 1.969471437168767\n"
          ]
        }
      ]
    },
    {
      "cell_type": "markdown",
      "source": [
        "# Neuron with PyTorch"
      ],
      "metadata": {
        "id": "4l8zkmj183Mx"
      }
    },
    {
      "cell_type": "code",
      "source": [
        "class NeuronPT(nn.Module):\n",
        "    def __init__(self, input_size):\n",
        "        super(NeuronPT, self).__init__()\n",
        "        self.fc = nn.Linear(input_size, 1)  # Single neuron\n",
        "\n",
        "    def forward(self, x):\n",
        "        x = self.fc(x)\n",
        "        x = torch.relu(x)  # ReLU activation function\n",
        "        return x.squeeze()"
      ],
      "metadata": {
        "id": "vqh1ZFb3zlou"
      },
      "execution_count": 99,
      "outputs": []
    },
    {
      "cell_type": "markdown",
      "source": [
        "# Training PyTorch neuron"
      ],
      "metadata": {
        "id": "DbdSI_Vv_n-v"
      }
    },
    {
      "cell_type": "code",
      "source": [
        "neuron = NeuronPT(3)"
      ],
      "metadata": {
        "id": "72asl8aJADhm"
      },
      "execution_count": 100,
      "outputs": []
    },
    {
      "cell_type": "code",
      "source": [
        "with torch.no_grad():  # We don't want these actions to be tracked in the computation graph\n",
        "    neuron.fc.weight = nn.Parameter(torch.tensor([0.77, 0.02, 0.63], dtype=torch.double).view(1, -1))\n",
        "    neuron.fc.bias = nn.Parameter(torch.tensor([0.0], dtype=torch.double))\n",
        "\n",
        "# Loss function and optimizer\n",
        "criterion = nn.MSELoss()\n",
        "optimizer = optim.SGD(neuron.parameters(), lr=0.01)\n",
        "\n",
        "\n",
        "NUM_OF_EPOCHS = 200\n",
        "for epoch in range(NUM_OF_EPOCHS):\n",
        "\n",
        "    outputs = neuron(torch.tensor(X, dtype=torch.double))\n",
        "    loss = criterion(outputs, torch.tensor(Y, dtype=torch.double))\n",
        "\n",
        "\n",
        "    optimizer.zero_grad()\n",
        "    loss.backward()\n",
        "    optimizer.step()\n",
        "\n",
        "    if epoch % 10 == 0:\n",
        "        print(f\"Epoch {epoch}/{epochs}, Loss: {loss.item()}\")"
      ],
      "metadata": {
        "colab": {
          "base_uri": "https://localhost:8080/"
        },
        "id": "1ryH_gnH_s1H",
        "outputId": "3a345e3b-3546-4502-b96c-9e214b3ab3f3"
      },
      "execution_count": 101,
      "outputs": [
        {
          "output_type": "stream",
          "name": "stdout",
          "text": [
            "Epoch 0/200, Loss: 4.52334044875\n",
            "Epoch 10/200, Loss: 4.44615263765318\n",
            "Epoch 20/200, Loss: 4.404935201579156\n",
            "Epoch 30/200, Loss: 4.366748535301183\n",
            "Epoch 40/200, Loss: 4.3310902392142445\n",
            "Epoch 50/200, Loss: 4.297576516021377\n",
            "Epoch 60/200, Loss: 4.276053372583611\n",
            "Epoch 70/200, Loss: 4.265445304171971\n",
            "Epoch 80/200, Loss: 4.256890285088464\n",
            "Epoch 90/200, Loss: 4.248797024472807\n",
            "Epoch 100/200, Loss: 4.2426691053004815\n",
            "Epoch 110/200, Loss: 4.236558982984865\n",
            "Epoch 120/200, Loss: 4.230609542622343\n",
            "Epoch 130/200, Loss: 4.226654736645009\n",
            "Epoch 140/200, Loss: 4.222060199748498\n",
            "Epoch 150/200, Loss: 4.19755944420016\n",
            "Epoch 160/200, Loss: 4.150086758825736\n",
            "Epoch 170/200, Loss: 4.114082748814562\n",
            "Epoch 180/200, Loss: 4.084068195848394\n",
            "Epoch 190/200, Loss: 4.062025219780939\n"
          ]
        }
      ]
    },
    {
      "cell_type": "code",
      "source": [],
      "metadata": {
        "id": "afHrRckg_--Q"
      },
      "execution_count": null,
      "outputs": []
    }
  ]
}