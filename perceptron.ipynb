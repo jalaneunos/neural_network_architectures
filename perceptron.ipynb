{
  "nbformat": 4,
  "nbformat_minor": 0,
  "metadata": {
    "colab": {
      "provenance": [],
      "authorship_tag": "ABX9TyOrwosFul09m6miLsEWkfQv",
      "include_colab_link": true
    },
    "kernelspec": {
      "name": "python3",
      "display_name": "Python 3"
    },
    "language_info": {
      "name": "python"
    }
  },
  "cells": [
    {
      "cell_type": "markdown",
      "metadata": {
        "id": "view-in-github",
        "colab_type": "text"
      },
      "source": [
        "<a href=\"https://colab.research.google.com/github/jalaneunos/neural_network_architectures/blob/main/perceptron.ipynb\" target=\"_parent\"><img src=\"https://colab.research.google.com/assets/colab-badge.svg\" alt=\"Open In Colab\"/></a>"
      ]
    },
    {
      "cell_type": "code",
      "execution_count": 98,
      "metadata": {
        "id": "DNPqfmyNzd1v"
      },
      "outputs": [],
      "source": [
        "import torch\n",
        "import numpy as np\n",
        "import math\n",
        "import os"
      ]
    },
    {
      "cell_type": "markdown",
      "source": [
        "# Perceptron without using PyTorch"
      ],
      "metadata": {
        "id": "WsrBF5108y2n"
      }
    },
    {
      "cell_type": "code",
      "source": [
        "class PerceptronNP:\n",
        "  def __init__(self, size):\n",
        "    self.w = np.random.rand(size)\n",
        "    self.b = np.random.rand(1)\n",
        "\n",
        "  def sigmoid(self, u):\n",
        "    return 1 / (1 + math.e**-u)\n",
        "\n",
        "  def forward(self, x):\n",
        "    u = np.dot(self.w, x) + self.b\n",
        "    y = self.sigmoid(u)\n",
        "    return y\n"
      ],
      "metadata": {
        "id": "8SkU9Cl-8xrd"
      },
      "execution_count": 121,
      "outputs": []
    },
    {
      "cell_type": "code",
      "source": [
        "a = PerceptronNP(3)"
      ],
      "metadata": {
        "id": "3TYjswVJ-PsU"
      },
      "execution_count": 122,
      "outputs": []
    },
    {
      "cell_type": "markdown",
      "source": [
        "# Perceptron with PyTorch"
      ],
      "metadata": {
        "id": "4l8zkmj183Mx"
      }
    },
    {
      "cell_type": "code",
      "source": [
        "class PerceptronPT:\n",
        "  def __init__(self, shape):\n",
        "    self.w = torch.rand(shape, dtype=torch.float64)\n",
        "    self.b = torch.zeros(1, dtype=torch.float64)\n",
        "\n",
        "  def forward(self, x):\n",
        "    u = torch.dot(x, self.w) + self.b\n",
        "    y = torch.sigmoid(u)\n",
        "    return y"
      ],
      "metadata": {
        "id": "vqh1ZFb3zlou"
      },
      "execution_count": 93,
      "outputs": []
    },
    {
      "cell_type": "code",
      "source": [
        "x = [1, 2, 3]\n",
        "x = torch.tensor(x, dtype=torch.float64)"
      ],
      "metadata": {
        "id": "lXpV12xR0nfO"
      },
      "execution_count": 119,
      "outputs": []
    },
    {
      "cell_type": "code",
      "source": [],
      "metadata": {
        "id": "72asl8aJADhm"
      },
      "execution_count": null,
      "outputs": []
    }
  ]
}